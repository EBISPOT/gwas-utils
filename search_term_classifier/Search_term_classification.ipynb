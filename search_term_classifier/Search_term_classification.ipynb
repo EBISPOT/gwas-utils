{
 "cells": [
  {
   "cell_type": "markdown",
   "metadata": {},
   "source": [
    "# Classifying search terms - in preparation for the 2019 SAB\n",
    "\n",
    "In this notebook the submitted search terms are classified into a few main categories representing the conceptual units of the GWAS Catalog eg. gene, trait etc. The logfiles are fetched and parsed as described [here](https://www.ebi.ac.uk/seqdb/confluence/pages/viewpage.action?pageId=64720227).\n",
    "\n",
    "**Analysed period**: 2019.01.01-2019.06.30\n",
    "\n",
    "**Classes:**\n",
    "\n",
    "* ancestry\n",
    "* author\n",
    "* consortia\n",
    "* cytoband\n",
    "* gene\n",
    "* pmid\n",
    "* region\n",
    "* study\n",
    "* trait\n",
    "* variant\n",
    "* unclassified\n"
   ]
  },
  {
   "cell_type": "markdown",
   "metadata": {},
   "source": [
    "## Criteria of classes\n",
    "\n",
    "### Ancestry\n",
    "\n",
    "If a search term matches a country name or a known ethnic group or ancestry definition. Where do we have the list of such terms:\n",
    "\n",
    "**1. GWAS Catalog ancestry file from the download [page](https://www.ebi.ac.uk/gwas/docs/file-downloads):**"
   ]
  },
  {
   "cell_type": "code",
   "execution_count": 11,
   "metadata": {},
   "outputs": [
    {
     "name": "stdout",
     "output_type": "stream",
     "text": [
      "[Info] Number of unique ancestry related terms:  157\n"
     ]
    }
   ],
   "source": [
    "%%bash\n",
    "\n",
    "curl -s 'https://www.ebi.ac.uk/gwas/api/search/downloads/ancestry' | cut -f9,10,11 \\\n",
    "    | perl -F\"\\t\" -MData::Dumper -lane '\n",
    "        foreach $field (@F){\n",
    "            next if $field eq \"NR\";\n",
    "            @elements = split (\", \", $field);\n",
    "            foreach $element (@elements){\n",
    "                next if $element eq \"NR\";\n",
    "                $h{$element} ++;\n",
    "            }\n",
    "        }; END {\n",
    "            print join \"\\n\", keys %h;\n",
    "        }' | sort -u > ancestry_related_terms_GWAS_Cat.txt\n",
    "echo \"[Info] Number of unique ancestry related terms: \" $(cat ancestry_related_terms_GWAS_Cat.txt | wc -l )"
   ]
  },
  {
   "cell_type": "markdown",
   "metadata": {},
   "source": [
    "**2. A full list of countries was also downloaded:**"
   ]
  },
  {
   "cell_type": "code",
   "execution_count": 2,
   "metadata": {},
   "outputs": [
    {
     "name": "stdout",
     "output_type": "stream",
     "text": [
      "[Info] Number of countries:  209\n"
     ]
    },
    {
     "name": "stderr",
     "output_type": "stream",
     "text": [
      "dos2unix: converting file country-keyword-list.csv to Unix format ...\n"
     ]
    }
   ],
   "source": [
    "%%bash \n",
    "\n",
    "curl -s https://www.searchify.ca/wp-content/uploads/2016/09/country-keyword-list.csv > country-keyword-list.csv\n",
    "dos2unix country-keyword-list.csv\n",
    "echo \"[Info] Number of countries: \" $(cat country-keyword-list.csv | wc -l)"
   ]
  },
  {
   "cell_type": "markdown",
   "metadata": {},
   "source": [
    "**3. A list of all known [ethnicities](https://en.wikipedia.org/wiki/List_of_contemporary_ethnic_groups) from wikipedia**\n",
    "\n",
    "The table is copy-pasted to a spreadsheet, then extensively cleaned to remove non-standard whitespaces and special characters. As the file contain a huge number of ethnic definition, areas of ethnic prevalences, some misleading terms needs to be excluded: eg. iron. Also there are handful of ethnicities with short names that are happen to be gene names as well.\n",
    "\n",
    "Parsing the cleaned ancestry file:"
   ]
  },
  {
   "cell_type": "code",
   "execution_count": 12,
   "metadata": {},
   "outputs": [
    {
     "name": "stdout",
     "output_type": "stream",
     "text": [
      "[Info] Number of unique ethnic groups:  2317\n"
     ]
    }
   ],
   "source": [
    "%%bash \n",
    "\n",
    "tail -n+2 ethnic_groups.txt \\\n",
    "    | perl -F\"\\t\" -lane 'foreach $f (@F){ \n",
    "            next if $_ =~ /^\\s+$/; \n",
    "            foreach $g (split \",\", $f){ \n",
    "                $g =~ s/^\\s*|$\\s*//g; \n",
    "                $h{$g} = 1 unless length $g < 3; \n",
    "            }\n",
    "        }\n",
    "        END {\n",
    "            foreach $g (keys %h){\n",
    "                print lc $g;\n",
    "            }\n",
    "        }' | sort -u | grep -v iron > cleaned_ethnic_groups.txt\n",
    "        \n",
    "echo \"[Info] Number of unique ethnic groups: \" $(cat cleaned_ethnic_groups.txt | wc -l)"
   ]
  },
  {
   "cell_type": "markdown",
   "metadata": {},
   "source": [
    "Merging the previously generated three files:"
   ]
  },
  {
   "cell_type": "code",
   "execution_count": 13,
   "metadata": {},
   "outputs": [
    {
     "name": "stdout",
     "output_type": "stream",
     "text": [
      "[Info] Combined ancestry related terms: 2574\n"
     ]
    }
   ],
   "source": [
    "%%bash\n",
    "\n",
    "cat ancestry_related_terms_GWAS_Cat.txt \\\n",
    "    country-keyword-list.csv \\\n",
    "    cleaned_ethnic_groups.txt \\\n",
    "    | sort -u > combined_ancestry_related_terms.txt\n",
    "    \n",
    "echo \"[Info] Combined ancestry related terms:\" $(cat combined_ancestry_related_terms.txt | wc -l)"
   ]
  },
  {
   "cell_type": "markdown",
   "metadata": {},
   "source": [
    "### Author\n",
    "\n",
    "Search terms where a word is followed by one or two letters. eg. `Prins B`. The following words are not considered in this classification: vitamin, hepatitis, cystatin, apolipoprotein.\n",
    "\n",
    "### Consortia\n",
    "\n",
    "We were interested how many of the queries are directed to consortias, named chorts. Currently a very rough filter is applied: the term is considered to be consortia related if it contains the word `consort` or `biobank`.\n",
    "\n",
    "### Cytoband\n",
    "\n",
    "Cytological bands are also a reasonably frequent search terms. Terms that look like this: `xq12.4` or `12p53` are considered as cytological bands.\n",
    "\n",
    "### Gene\n",
    "\n",
    "Genes are among the most frequently searched terms. Unfortunately users are search by IDs from different databases, synonyms etc. Dictionary with all known gene names/IDs are generated as follows:"
   ]
  },
  {
   "cell_type": "code",
   "execution_count": 8,
   "metadata": {},
   "outputs": [
    {
     "name": "stdout",
     "output_type": "stream",
     "text": [
      "[Info] Combined gene term list: 134098\n"
     ]
    }
   ],
   "source": [
    "%%bash \n",
    "\n",
    "# Downloading GENCODE data:\n",
    "wget -q ftp://ftp.ebi.ac.uk/pub/databases/gencode/Gencode_human/release_31/gencode.v31.annotation.gtf.gz\n",
    "\n",
    "# Downloading Entrez gene info:\n",
    "wget -q ftp://ftp.ncbi.nih.gov/gene/DATA/GENE_INFO/Mammalia/Homo_sapiens.gene_info.gz\n",
    "\n",
    "cat <(zless gencode.v31.annotation.gtf.gz | grep -v \"#\"| awk '$3 == \"gene\"' \\\n",
    "   | perl -lane 'print $1 if $_ =~ /gene_name \"(.+?)\"/' )\\\n",
    "   <(zless Homo_sapiens.gene_info.gz  | grep -v \"#\" | perl -lane 'print  join \"\\n\", $F[2], split(/\\|/, $F[4])') \\\n",
    "   | perl -lane '$_ =~ s/\\.\\d+$//; $_ =~ s/\\.$//; print $_ if length($_) >= 3' | sort -u > gene_list.txt\n",
    "\n",
    "echo \"[Info] Combined gene term list:\" $(cat gene_list.txt | wc -l)"
   ]
  },
  {
   "cell_type": "markdown",
   "metadata": {},
   "source": [
    "A search term is considered to be gene if matches to a gene term or Ensembl gene ID (`ENSG00...`) or gene card ID (`gc....`). \n",
    "\n",
    "### Pubmed ID\n",
    "\n",
    "Finding pubmed ID is not easy. There are a lot of numbers in general: genomic region, rsID, gene ID etc. So a number is considered to be a pubmed ID if it has only 8 digits starting with 1,2 or 3. Does not have `rs`, `kgp`, `exm`, `ensg` or does not look like a chromosome: `X:2039203`.\n",
    "\n",
    "### Genomic region\n",
    "\n",
    "A search term is considered to be a genomic region if it has a chromosome (`1..22`,`x`,`y`) followed by `:`, number, then `-` then number again.\n",
    "\n",
    "### GWAS Catalog study\n",
    "\n",
    "A search term is considered to be study if it looks like this: `GCST####`. \n",
    "\n",
    "### Trait\n",
    "\n",
    "Identifying traits is tricky. First we generate a large dictionary of possible trait names and look up the search terms."
   ]
  },
  {
   "cell_type": "code",
   "execution_count": 9,
   "metadata": {},
   "outputs": [
    {
     "name": "stdout",
     "output_type": "stream",
     "text": [
      "[Info] Size of the combined term list: 14826\n"
     ]
    },
    {
     "name": "stderr",
     "output_type": "stream",
     "text": [
      "Wide character in print at ./trait_parser.pl line 42.\n",
      "Wide character in print at ./trait_parser.pl line 42.\n",
      "Wide character in print at ./trait_parser.pl line 42.\n",
      "Wide character in print at ./trait_parser.pl line 42.\n",
      "Wide character in print at ./trait_parser.pl line 42.\n",
      "Wide character in print at ./trait_parser.pl line 42.\n",
      "Wide character in print at ./trait_parser.pl line 42.\n",
      "Wide character in print at ./trait_parser.pl line 42.\n",
      "Wide character in print at ./trait_parser.pl line 42.\n"
     ]
    }
   ],
   "source": [
    "%%bash\n",
    "\n",
    "# Extracting all traits, reported traits, synonyms etc:\n",
    "curl -s \"http://garfield.ebi.ac.uk:8983/solr/gwas_slim/select?q=resourcename%3Atrait&rows=2467&fl=parent%2CmappedTrait%2C+synonyms%2C+reportedTrait&wt=json&indent=true\" | jq -r '.response.docs' > traits.json\n",
    "\n",
    "\n",
    "# Reading json in perl and get a unique list of all the trait terms:\n",
    "./trait_parser.pl traits.json | sort > unique_trait_terms.lst\n",
    "\n",
    "# Generating a list of words typical for phenotypes:\n",
    "cat unique_trait_terms.lst <(echo \"als aids area acne age stroke measurement bmi barr blue body levels bone copd cold deep disc down ear eye egg fast fear food fat \\\n",
    "    foot free grout gray hiv hpv hair hand head height high hip lead lean iris iron ratio itch knee left lewy life lip \\\n",
    "    lobe low lung levels mmr mri male mean activity status adenocarcinoma cinoma mild milk mood oral pet pain peak poor post rate red sex skin stem sum type \\\n",
    "    urea uric vein very zinc ward word acid air area aura band base beta dose drop diet born cell drug dust eyes \\\n",
    "    face flow gain germ grip hay hand hair heel heme jaw late legs load meal anger agression parkinsons \\\n",
    "    body bmi adhd measure rheumatoid alzheimer renal crohn fat factor gamma height Parkinsons hyperinsulinemia \\\n",
    "    hiv hepatitis hypertension pulmonary hdl serum schizophrenia sensitivity hyperlipidemia dyslipidemia IQ \\\n",
    "    ldl skin stroke  stomach systemic substance systolic survival crohns ptsd lactase salt retinoblastom \\\n",
    "    level total thyroid thioredoxin concentrations viral als event waist vitamin vitemin birthweight \\\n",
    "    vitami vitamine vitamina density function Response disease symptom degeneration hemophilia \\\n",
    "    chron failure cancer obesity ibd sarcoma blood lymphoma association risk syndrome deafness breastcancer \\\n",
    "    disorder type diabetes t2d t1d\" | tr \" \" \"\\n\" ) | sort -u | awk 'NF != 0' | sponge unique_trait_terms.lst\n",
    "    \n",
    "echo \"[Info] Size of the combined term list:\" $(cat unique_trait_terms.lst | wc -l)"
   ]
  },
  {
   "cell_type": "markdown",
   "metadata": {},
   "source": [
    "### variant\n",
    "\n",
    "Variants are marked by several different ways: rsID, KGP, EXM ID or chromosome:position.\n",
    "\n",
    "\n",
    "### Unclassified\n",
    "\n",
    "A term is unclassified if none of the above critera was satisfied.\n",
    "\n",
    "## Exclusion\n",
    "\n",
    "Queries we are displaying on the front search page were omitted from the counting:\n",
    "\n",
    "* `breast carcinoma`\n",
    "* `rs7329174`\n",
    "* `Yao`\n",
    "* `2q37.1`\n",
    "* `HBS1L` \n",
    "* `6:16000000-25000000`\n",
    "\n",
    "## Calling classifier\n",
    "\n",
    "\n",
    "```bash\n",
    "./search_classifier.pl \\\n",
    "    -geneFile gene_list.txt \\\n",
    "    -traitFile unique_trait_terms.lst  \\\n",
    "    -ancestryFile combined_ancestry_related_terms.txt \\\n",
    "    -logFile search_2019-01-01-2019-06-31_queries.tsv \\\n",
    "    -outputFolder output\n",
    "```"
   ]
  },
  {
   "cell_type": "markdown",
   "metadata": {},
   "source": [
    "## Input set\n",
    "\n",
    "To generate the input set, the logfiles are parsed and pooled to get a unique list of search terms and the number how many times are term was queried:\n",
    "\n",
    "```bash\n",
    "head search_2019-01-01-2019-06-31_queries.tsv\n",
    "```\n",
    "\n",
    "```\n",
    "177597  rs7329174\n",
    "5238    breast%20carcinoma\n",
    "1468    body%20mass%20index\n",
    "1157    schizophrenia\n",
    "1091    diabetes\n",
    "1018    multiple%20sclerosis\n",
    "1009    obesity\n",
    "944     asthma\n",
    "937     breast%20cancer\n",
    "928     Alzheimer%27s%20disease\n",
    "````\n",
    "\n",
    "* The number of queries in the requested period: 974,599\n",
    "* Number of unique search terms: 209,853\n",
    "\n",
    "## Output\n",
    "\n",
    "The search terms are classified into the above described bins. Some terms are assigned to multiple bins. The table below shows the overlap:\n",
    "\n",
    "| Number of bins | Count | Percent |\n",
    "|:------|:------|:------|\n",
    "| 1 | 958422 | 98.34014% |\n",
    "| 2 | 16169 | 1.65904% |\n",
    "| 3 | 7 | 0.00072% |\n",
    "| 4 | 1 | 0.00010% |\n",
    "\n",
    "As the table shows 98.3% of all queries (not terms!) were binned into one single class. That's very reassuring. \n",
    "\n",
    "The distrubution of queries across categories look like this:\n",
    "\n",
    "| Bin | Count | Percent |\n",
    "|:------|:------|:------|\n",
    "| variant | 344309 | 35.328% |\n",
    "| gene | 383378 | 39.337% |\n",
    "| trait | 156029 | 16.010% |\n",
    "| unclassified | 57953 | 5.946% |\n",
    "| pmid | 30009 | 3.079% |\n",
    "| author | 10050 | 1.031% |\n",
    "| cytoband | 3002 | 0.308% |\n",
    "| region | 2948 | 0.302% |\n",
    "| study | 2590 | 0.266% |\n",
    "| ancestry | 287 | 0.029% |\n",
    "| consortia | 230 | 0.024% |\n",
    "\n",
    "![pie_chart]( pie_chart.png \"Distribution ofsearches\")"
   ]
  },
  {
   "cell_type": "code",
   "execution_count": null,
   "metadata": {},
   "outputs": [],
   "source": []
  }
 ],
 "metadata": {
  "kernelspec": {
   "display_name": "Python 3",
   "language": "python",
   "name": "python3"
  },
  "language_info": {
   "codemirror_mode": {
    "name": "ipython",
    "version": 3
   },
   "file_extension": ".py",
   "mimetype": "text/x-python",
   "name": "python",
   "nbconvert_exporter": "python",
   "pygments_lexer": "ipython3",
   "version": "3.7.3"
  }
 },
 "nbformat": 4,
 "nbformat_minor": 2
}
